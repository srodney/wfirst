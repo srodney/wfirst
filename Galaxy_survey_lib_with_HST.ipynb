{
 "cells": [
  {
   "cell_type": "code",
   "execution_count": 1,
   "metadata": {},
   "outputs": [],
   "source": [
    "%matplotlib inline\n",
    "import numpy as np\n",
    "import astropy\n",
    "from astropy.io import ascii\n",
    "from astropy.table import Table\n",
    "from astropy.io import fits\n",
    "import cosmo\n",
    "import matplotlib.pyplot as plt\n",
    "from astropy.coordinates import SkyCoord\n",
    "from astropy import units as u\n",
    "from astropy.table import Column"
   ]
  },
  {
   "cell_type": "markdown",
   "metadata": {},
   "source": [
    "This notebook matches galaxies from various surveys to the DEIMOS survey for a more comprehensive data catalogue.\n",
    "\n",
    "All data tables come from \"galaxy_inputs\" folder."
   ]
  },
  {
   "cell_type": "code",
   "execution_count": 2,
   "metadata": {},
   "outputs": [],
   "source": [
    "#DEIMOS catalogue\n",
    "F = np.genfromtxt('galaxy_inputs/cosmos_example_hostlib.txt', skip_header = 1)\n",
    "names = ['IGNORE','GALID', 'RA_GAL', 'DEC_GAL', 'ZTRUE', 'ZERR', 'ZPHOT', 'ZPHOTERR', 'logsfr', 'logmass', 'logssfr', 'hstj_obs',  'hsth_obs', 'n0_Sersic', 'a0_Sersic', 'b0_Sersic', 'a_rot', 'eazy_coeff00', 'eazy_coeff01', 'eazy_coeff02', 'eazy_coeff03', 'eazy_coeff04', 'eazy_coeff05', 'eazy_coeff06', 'eazy_coeff07', 'eazy_coeff08', 'eazy_coeff09', 'eazy_coeff10', 'eazy_coeff11', 'eazy_coeff12']\n",
    "T = Table(names = ('IGNORE','GALID', 'RA_GAL', 'DEC_GAL', 'ZTRUE', 'ZERR', 'ZPHOT', 'ZPHOTERR', 'logsfr', 'logmass', 'logssfr', 'hstj_obs',  'hsth_obs', 'n0_Sersic', 'a0_Sersic', 'b0_Sersic', 'a_rot', 'eazy_coeff00', 'eazy_coeff01', 'eazy_coeff02', 'eazy_coeff03', 'eazy_coeff04', 'eazy_coeff05', 'eazy_coeff06', 'eazy_coeff07', 'eazy_coeff08', 'eazy_coeff09', 'eazy_coeff10', 'eazy_coeff11', 'eazy_coeff12'))\n",
    "for row in F:\n",
    "    T.add_row(row)\n",
    "    \n",
    "r = list(T[1])\n",
    "for x in range (0, len(r)):\n",
    "    if isinstance(r[x], str)==True:\n",
    "        T.remove_column(names[x])\n",
    "T.remove_column(\"IGNORE\")"
   ]
  },
  {
   "cell_type": "code",
   "execution_count": 3,
   "metadata": {},
   "outputs": [
    {
     "name": "stderr",
     "output_type": "stream",
     "text": [
      "/Users/leahvazsonyi/astronomy/Galaxylib/cosmo.py:192: RuntimeWarning: overflow encountered in sinh\n",
      "  z = ( A * sinh( B ) )**(-2/3.) - 1\n"
     ]
    }
   ],
   "source": [
    "#G10 catalogue\n",
    "F_2 = fits.open(\"galaxy_inputs/G10CosmosCatv05/G10COSMOSCatv05.fits\")\n",
    "T_2 = Table.read(F_2)\n",
    "add1 = T_2['filename_ZCOS']\n",
    "add2 = T_2['SPEC_FILENAME']\n",
    "names = list(T_2.columns)\n",
    "r = list(T_2[1])\n",
    "for x in range (0, len(r)):\n",
    "    if isinstance(r[x], str)==True:\n",
    "        T_2.remove_column(names[x])\n",
    "T_2[\"Z_06\"] = (-1)*(cosmo.zfromt(T_2[\"Z_06\"]))"
   ]
  },
  {
   "cell_type": "code",
   "execution_count": 4,
   "metadata": {},
   "outputs": [],
   "source": [
    "#matching coordinates\n",
    "c = SkyCoord(ra=T[\"RA_GAL\"]*u.degree, dec=T[\"DEC_GAL\"]*u.degree, distance = T[\"ZTRUE\"])\n",
    "catalog = SkyCoord(ra=T_2[\"RA_06\"]*u.degree, dec=T_2[\"DEC_06\"]*u.degree, distance = T_2[\"Z_06\"])\n",
    "idx, d2d, d3d = c.match_to_catalog_3d(catalog)"
   ]
  },
  {
   "cell_type": "code",
   "execution_count": 5,
   "metadata": {
    "scrolled": true
   },
   "outputs": [],
   "source": [
    "matches = catalog[idx]\n",
    "matches_i = []\n",
    "T_2_match = T_2[idx]\n",
    "ids = []\n",
    "#confirming that all matches are within 1 arcsec of the original catalogue galaxy\n",
    "for a in range (0, len(T[\"RA_GAL\"])):\n",
    "    x = T[\"RA_GAL\"][a]\n",
    "    y = T_2_match[\"RA_06\"][a]\n",
    "    if x-y <= 0.000278:\n",
    "        w = T[\"DEC_GAL\"][a]\n",
    "        z = T_2_match[\"DEC_06\"][a]\n",
    "        if w-z <= 0.000278:\n",
    "            matches_i.append(idx[a])\n",
    "            ids.append(T[\"GALID\"][a])\n",
    "T_2_m = T_2[matches_i] #Table of galaxies from G10 catalogue which match DEIMOS catalogue\n",
    "add1_m = add1[matches_i]\n",
    "add2_m = add2[matches_i]\n",
    "g = Column(ids, name = \"GALID2\")\n",
    "T_2_m.add_column(g)\n"
   ]
  },
  {
   "cell_type": "code",
   "execution_count": 6,
   "metadata": {},
   "outputs": [],
   "source": [
    "#vUDS catalogue\n",
    "F_3 = ascii.read(\"galaxy_inputs/cesam_vuds_spectra_dr1_cosmos_catalog_1566516152.csv\")\n",
    "\n",
    "T_3 = Table(F_3)\n",
    "names = list(T_3.columns)\n",
    "r = list(T_3[1])\n",
    "for x in range (0, len(r)):\n",
    "    if isinstance(r[x], str)==True:\n",
    "        T_3.remove_column(names[x])"
   ]
  },
  {
   "cell_type": "code",
   "execution_count": 7,
   "metadata": {},
   "outputs": [],
   "source": [
    "from astropy.coordinates import SkyCoord\n",
    "from astropy import units as u\n",
    "c = SkyCoord(ra=T[\"RA_GAL\"]*u.degree, dec=T[\"DEC_GAL\"]*u.degree, distance = T[\"ZTRUE\"])\n",
    "catalog = SkyCoord(ra=T_3[\"alpha\"]*u.degree, dec=T_3[\"delta\"]*u.degree, distance = T_3[\"z_spec\"])\n",
    "idx, d2d, d3d = c.match_to_catalog_3d(catalog)"
   ]
  },
  {
   "cell_type": "code",
   "execution_count": 8,
   "metadata": {},
   "outputs": [],
   "source": [
    "matches1 = catalog[idx]\n",
    "\n",
    "T_3_match = T_3[idx]\n",
    "ids = []\n",
    "matches_i = []\n",
    "for a in range (0, len(T[\"RA_GAL\"])):\n",
    "    x = T[\"RA_GAL\"][a]\n",
    "    y = T_3_match[\"alpha\"][a]\n",
    "    if x-y <= 0.000278:\n",
    "        w = T[\"DEC_GAL\"][a]\n",
    "        z = T_3_match[\"delta\"][a]\n",
    "        if w-z <= 0.000278:\n",
    "            matches_i.append(idx[a])\n",
    "            ids.append(T[\"GALID\"][a])\n",
    "T_3_m = T_3[matches_i]\n",
    "f = Column(ids, name = \"GALID3\")\n",
    "T_3_m.add_column(f)"
   ]
  },
  {
   "cell_type": "code",
   "execution_count": 9,
   "metadata": {},
   "outputs": [],
   "source": [
    "#zCosmos Catalogue\n",
    "F_4 = fits.open(\"galaxy_inputs/zCOSMOS_VIMOS_BRIGHT_DR3_CATALOGUE.fits\")\n",
    "T_4 = Table.read(F_4)\n",
    "names = list(T_4.columns)\n",
    "r = list(T_4[1])\n",
    "for x in range (0, len(r)):\n",
    "    if isinstance(r[x], str)==True:\n",
    "        T_4.remove_column(names[x])"
   ]
  },
  {
   "cell_type": "code",
   "execution_count": 10,
   "metadata": {},
   "outputs": [],
   "source": [
    "from astropy.coordinates import SkyCoord\n",
    "from astropy import units as u\n",
    "c = SkyCoord(ra=T[\"RA_GAL\"]*u.degree, dec=T[\"DEC_GAL\"]*u.degree, distance = T[\"ZTRUE\"])\n",
    "catalog = SkyCoord(ra=T_4[\"RAJ2000\"], dec=T_4[\"DEJ2000\"], distance = T_4[\"REDSHIFT\"])\n",
    "idx, d2d, d3d = c.match_to_catalog_3d(catalog)"
   ]
  },
  {
   "cell_type": "code",
   "execution_count": 11,
   "metadata": {},
   "outputs": [],
   "source": [
    "matches1 = catalog[idx]\n",
    "\n",
    "T_4_match = T_4[idx]\n",
    "ids = []\n",
    "matches_i = []\n",
    "for a in range (0, len(T[\"RA_GAL\"])):\n",
    "    x = T[\"RA_GAL\"][a]\n",
    "    y = T_4_match[\"RAJ2000\"][a]\n",
    "    if x-y <= 0.000278:\n",
    "        w = T[\"DEC_GAL\"][a]\n",
    "        z = T_4_match[\"DEJ2000\"][a]\n",
    "        if w-z <= 0.000278:\n",
    "            matches_i.append(idx[a])\n",
    "            ids.append(T[\"GALID\"][a])\n",
    "T_4_m = T_4[matches_i]\n",
    "h = Column(ids, name = \"GALID4\")\n",
    "T_4_m.add_column(h)\n"
   ]
  },
  {
   "cell_type": "code",
   "execution_count": 12,
   "metadata": {},
   "outputs": [
    {
     "ename": "OSError",
     "evalue": "File exists: gal_lib_mod.fits",
     "output_type": "error",
     "traceback": [
      "\u001b[0;31m---------------------------------------------------------------------------\u001b[0m",
      "\u001b[0;31mOSError\u001b[0m                                   Traceback (most recent call last)",
      "\u001b[0;32m<ipython-input-12-8825fc73a250>\u001b[0m in \u001b[0;36m<module>\u001b[0;34m\u001b[0m\n\u001b[1;32m     40\u001b[0m \u001b[0mrow1f\u001b[0m \u001b[0;34m=\u001b[0m \u001b[0mColumn\u001b[0m\u001b[0;34m(\u001b[0m\u001b[0mrow1\u001b[0m\u001b[0;34m,\u001b[0m \u001b[0mname\u001b[0m \u001b[0;34m=\u001b[0m \u001b[0;34m'filename_ZCOS'\u001b[0m\u001b[0;34m)\u001b[0m\u001b[0;34m\u001b[0m\u001b[0;34m\u001b[0m\u001b[0m\n\u001b[1;32m     41\u001b[0m \u001b[0mrow2f\u001b[0m \u001b[0;34m=\u001b[0m \u001b[0mColumn\u001b[0m\u001b[0;34m(\u001b[0m\u001b[0mrow2\u001b[0m\u001b[0;34m,\u001b[0m \u001b[0mname\u001b[0m \u001b[0;34m=\u001b[0m \u001b[0;34m'SPEC_FILENAME'\u001b[0m\u001b[0;34m)\u001b[0m\u001b[0;34m\u001b[0m\u001b[0;34m\u001b[0m\u001b[0m\n\u001b[0;32m---> 42\u001b[0;31m \u001b[0mT_final\u001b[0m\u001b[0;34m.\u001b[0m\u001b[0mwrite\u001b[0m\u001b[0;34m(\u001b[0m\u001b[0;34m\"gal_lib_mod.fits\"\u001b[0m\u001b[0;34m,\u001b[0m \u001b[0mformat\u001b[0m \u001b[0;34m=\u001b[0m \u001b[0;34m\"fits\"\u001b[0m\u001b[0;34m)\u001b[0m\u001b[0;34m\u001b[0m\u001b[0;34m\u001b[0m\u001b[0m\n\u001b[0m",
      "\u001b[0;32m~/anaconda3/lib/python3.7/site-packages/astropy/table/table.py\u001b[0m in \u001b[0;36mwrite\u001b[0;34m(self, *args, **kwargs)\u001b[0m\n\u001b[1;32m   2592\u001b[0m         \u001b[0mserialize_method\u001b[0m \u001b[0;34m=\u001b[0m \u001b[0mkwargs\u001b[0m\u001b[0;34m.\u001b[0m\u001b[0mpop\u001b[0m\u001b[0;34m(\u001b[0m\u001b[0;34m'serialize_method'\u001b[0m\u001b[0;34m,\u001b[0m \u001b[0;32mNone\u001b[0m\u001b[0;34m)\u001b[0m\u001b[0;34m\u001b[0m\u001b[0;34m\u001b[0m\u001b[0m\n\u001b[1;32m   2593\u001b[0m         \u001b[0;32mwith\u001b[0m \u001b[0mserialize_method_as\u001b[0m\u001b[0;34m(\u001b[0m\u001b[0mself\u001b[0m\u001b[0;34m,\u001b[0m \u001b[0mserialize_method\u001b[0m\u001b[0;34m)\u001b[0m\u001b[0;34m:\u001b[0m\u001b[0;34m\u001b[0m\u001b[0;34m\u001b[0m\u001b[0m\n\u001b[0;32m-> 2594\u001b[0;31m             \u001b[0mio_registry\u001b[0m\u001b[0;34m.\u001b[0m\u001b[0mwrite\u001b[0m\u001b[0;34m(\u001b[0m\u001b[0mself\u001b[0m\u001b[0;34m,\u001b[0m \u001b[0;34m*\u001b[0m\u001b[0margs\u001b[0m\u001b[0;34m,\u001b[0m \u001b[0;34m**\u001b[0m\u001b[0mkwargs\u001b[0m\u001b[0;34m)\u001b[0m\u001b[0;34m\u001b[0m\u001b[0;34m\u001b[0m\u001b[0m\n\u001b[0m\u001b[1;32m   2595\u001b[0m \u001b[0;34m\u001b[0m\u001b[0m\n\u001b[1;32m   2596\u001b[0m     \u001b[0;32mdef\u001b[0m \u001b[0mcopy\u001b[0m\u001b[0;34m(\u001b[0m\u001b[0mself\u001b[0m\u001b[0;34m,\u001b[0m \u001b[0mcopy_data\u001b[0m\u001b[0;34m=\u001b[0m\u001b[0;32mTrue\u001b[0m\u001b[0;34m)\u001b[0m\u001b[0;34m:\u001b[0m\u001b[0;34m\u001b[0m\u001b[0;34m\u001b[0m\u001b[0m\n",
      "\u001b[0;32m~/anaconda3/lib/python3.7/site-packages/astropy/io/registry.py\u001b[0m in \u001b[0;36mwrite\u001b[0;34m(data, format, *args, **kwargs)\u001b[0m\n\u001b[1;32m    558\u001b[0m \u001b[0;34m\u001b[0m\u001b[0m\n\u001b[1;32m    559\u001b[0m     \u001b[0mwriter\u001b[0m \u001b[0;34m=\u001b[0m \u001b[0mget_writer\u001b[0m\u001b[0;34m(\u001b[0m\u001b[0mformat\u001b[0m\u001b[0;34m,\u001b[0m \u001b[0mdata\u001b[0m\u001b[0;34m.\u001b[0m\u001b[0m__class__\u001b[0m\u001b[0;34m)\u001b[0m\u001b[0;34m\u001b[0m\u001b[0;34m\u001b[0m\u001b[0m\n\u001b[0;32m--> 560\u001b[0;31m     \u001b[0mwriter\u001b[0m\u001b[0;34m(\u001b[0m\u001b[0mdata\u001b[0m\u001b[0;34m,\u001b[0m \u001b[0;34m*\u001b[0m\u001b[0margs\u001b[0m\u001b[0;34m,\u001b[0m \u001b[0;34m**\u001b[0m\u001b[0mkwargs\u001b[0m\u001b[0;34m)\u001b[0m\u001b[0;34m\u001b[0m\u001b[0;34m\u001b[0m\u001b[0m\n\u001b[0m\u001b[1;32m    561\u001b[0m \u001b[0;34m\u001b[0m\u001b[0m\n\u001b[1;32m    562\u001b[0m \u001b[0;34m\u001b[0m\u001b[0m\n",
      "\u001b[0;32m~/anaconda3/lib/python3.7/site-packages/astropy/io/fits/connect.py\u001b[0m in \u001b[0;36mwrite_table_fits\u001b[0;34m(input, output, overwrite)\u001b[0m\n\u001b[1;32m    393\u001b[0m             \u001b[0mos\u001b[0m\u001b[0;34m.\u001b[0m\u001b[0mremove\u001b[0m\u001b[0;34m(\u001b[0m\u001b[0moutput\u001b[0m\u001b[0;34m)\u001b[0m\u001b[0;34m\u001b[0m\u001b[0;34m\u001b[0m\u001b[0m\n\u001b[1;32m    394\u001b[0m         \u001b[0;32melse\u001b[0m\u001b[0;34m:\u001b[0m\u001b[0;34m\u001b[0m\u001b[0;34m\u001b[0m\u001b[0m\n\u001b[0;32m--> 395\u001b[0;31m             \u001b[0;32mraise\u001b[0m \u001b[0mOSError\u001b[0m\u001b[0;34m(\u001b[0m\u001b[0;34m\"File exists: {0}\"\u001b[0m\u001b[0;34m.\u001b[0m\u001b[0mformat\u001b[0m\u001b[0;34m(\u001b[0m\u001b[0moutput\u001b[0m\u001b[0;34m)\u001b[0m\u001b[0;34m)\u001b[0m\u001b[0;34m\u001b[0m\u001b[0;34m\u001b[0m\u001b[0m\n\u001b[0m\u001b[1;32m    396\u001b[0m \u001b[0;34m\u001b[0m\u001b[0m\n\u001b[1;32m    397\u001b[0m     \u001b[0mtable_hdu\u001b[0m\u001b[0;34m.\u001b[0m\u001b[0mwriteto\u001b[0m\u001b[0;34m(\u001b[0m\u001b[0moutput\u001b[0m\u001b[0;34m)\u001b[0m\u001b[0;34m\u001b[0m\u001b[0;34m\u001b[0m\u001b[0m\n",
      "\u001b[0;31mOSError\u001b[0m: File exists: gal_lib_mod.fits"
     ]
    }
   ],
   "source": [
    "\n",
    "'''Builds final catalogue by combining all of the matched tables into one larger table.\n",
    "If there is no data for a specific cell, it will be filled with a 0'''\n",
    "names = (list(T.columns) + list(T_2_m.columns) + list(T_3_m.columns) + list(T_4_m.columns))\n",
    "\n",
    "T_final = Table(names = (list(T.columns) + list(T_2_m.columns) + list(T_3_m.columns) + list(T_4_m.columns)))\n",
    "row1 = []\n",
    "row2 = []\n",
    "for x in range(0, len(T[\"GALID\"])):\n",
    "    ID = T[\"GALID\"][x]\n",
    "    r1 = list(T[x])\n",
    "    if ID in T_2_m[\"GALID2\"]:\n",
    "        l = list(T_2_m[\"GALID2\"])\n",
    "        ind = l.index(ID)\n",
    "        r2 = list(T_2_m[ind])\n",
    "        row1.append(add1_m[ind])\n",
    "        row2.append(add2_m[ind])\n",
    "    else:\n",
    "        y = len(list(T_2_m[1]))\n",
    "        r2 = list(y*\"0\")\n",
    "        row1.append(0)\n",
    "        row2.append(0)\n",
    "    if ID in T_3_m[\"GALID3\"]:\n",
    "        l = list(T_3_m[\"GALID3\"])\n",
    "        ind = l.index(ID)\n",
    "        r3 = list(T_3_m[ind])\n",
    "    else:\n",
    "        y = len(list(T_3_m[1]))\n",
    "        r3 = list(y*\"0\")\n",
    "    if ID in T_4_m[\"GALID4\"]:\n",
    "        l = list(T_4_m[\"GALID4\"])\n",
    "        ind = l.index(ID)\n",
    "        r4 = list(T_4_m[ind])\n",
    "    else:\n",
    "        y = len(list(T_4[1]))+1\n",
    "        r4 = list(y*\"0\")\n",
    "    row = np.array(r1 + r2 + r3 + r4, dtype = object)\n",
    "    T_final.add_row(row)\n",
    "\n",
    "row1f = Column(row1, name = 'filename_ZCOS')\n",
    "row2f = Column(row2, name = 'SPEC_FILENAME')\n",
    "T_final.write(\"gal_lib_mod.fits\", format = \"fits\")"
   ]
  },
  {
   "cell_type": "code",
   "execution_count": 14,
   "metadata": {},
   "outputs": [],
   "source": [
    "'''Matches from HST catalogue'''\n",
    "F = np.genfromtxt('galaxy_inputs/3dhst_master.phot.v4.1.cat', skip_header = 41202)\n",
    "T_HST = Table(names = ('id', 'field', 'ra', 'dec', 'x', 'y', 'z_spec', 'z_peak', 'faper_F140W', 'eaper_F140W', 'faper_F160W', 'eaper_F160W', 'f_F606W', 'e_F606W', 'f_F814W', 'e_F814W', 'f_F125W', 'e_F125W', 'f_F140W', 'e_F140W', 'f_F160W', 'e_F160W', 'tot_cor', 'kron_radius', 'a_image', 'b_image', 'flux_radius', 'fwhm_image', 'flags', 'f140w_flag', 'star_flag', 'use_phot', 'near_star', 'nexp_f125w', 'nexp_f140w', 'nexp_f160w', 'lmass', 'Av'))\n",
    "count = 0\n",
    "for row in F:\n",
    "    T_HST.add_row(row)\n",
    "    count = count + 1\n",
    "    if count > 33882:\n",
    "        break"
   ]
  },
  {
   "cell_type": "code",
   "execution_count": 15,
   "metadata": {},
   "outputs": [],
   "source": [
    "T_HST_tot = Table(names = (\"GALID\", \"RA_GAL\", \"DEC_GAL\", \"ZTRUE\"))"
   ]
  },
  {
   "cell_type": "code",
   "execution_count": 16,
   "metadata": {},
   "outputs": [],
   "source": [
    "#cosmos-02\n",
    "T_HST_tot.add_row([T_final[16][\"GALID\"], T_final[16][\"RA_GAL\"], T_final[16][\"DEC_GAL\"], T_final[16][\"ZTRUE\"]])\n",
    "T_HST_tot.add_row([T_final[19][\"GALID\"], T_final[19][\"RA_GAL\"], T_final[19][\"DEC_GAL\"], T_final[19][\"ZTRUE\"]])\n",
    "T_HST_tot.add_row([T_final[18][\"GALID\"], T_final[18][\"RA_GAL\"], T_final[18][\"DEC_GAL\"], T_final[18][\"ZTRUE\"]])\n",
    "names = Column(data =[\"cosmos-02\", \"cosmos-02\", \"cosmos-02\"], name = (\"FOLDER\"))\n",
    "T_HST_tot.add_column(names)\n"
   ]
  },
  {
   "cell_type": "code",
   "execution_count": 17,
   "metadata": {},
   "outputs": [],
   "source": [
    "#cosmos-03\n",
    "T_HST_tot.add_row([T_final[1][\"GALID\"], T_final[1][\"RA_GAL\"], T_final[1][\"DEC_GAL\"], T_final[1][\"ZTRUE\"], \"cosmos-03\"])"
   ]
  },
  {
   "cell_type": "code",
   "execution_count": 18,
   "metadata": {},
   "outputs": [],
   "source": [
    "#cosmos-04\n",
    "T_HST_tot.add_row([T_final[28][\"GALID\"], T_final[28][\"RA_GAL\"], T_final[28][\"DEC_GAL\"], T_final[28][\"ZTRUE\"], \"cosmos-04\"])"
   ]
  },
  {
   "cell_type": "code",
   "execution_count": 19,
   "metadata": {},
   "outputs": [],
   "source": [
    "#cosmos-06\n",
    "T_HST_tot.add_row([T_final[6][\"GALID\"], T_final[6][\"RA_GAL\"], T_final[6][\"DEC_GAL\"], T_final[6][\"ZTRUE\"], \"cosmos-06\"])"
   ]
  },
  {
   "cell_type": "code",
   "execution_count": 20,
   "metadata": {},
   "outputs": [],
   "source": [
    "#cosmos-07\n",
    "T_HST_tot.add_row([T_final[4][\"GALID\"], T_final[4][\"RA_GAL\"], T_final[4][\"DEC_GAL\"], T_final[4][\"ZTRUE\"], \"cosmos-07\"])"
   ]
  },
  {
   "cell_type": "code",
   "execution_count": 21,
   "metadata": {},
   "outputs": [],
   "source": [
    "#cosmos-11\n",
    "T_HST_tot.add_row([T_final[17][\"GALID\"], T_final[17][\"RA_GAL\"], T_final[17][\"DEC_GAL\"], T_final[17][\"ZTRUE\"], \"cosmos-11\"])"
   ]
  },
  {
   "cell_type": "code",
   "execution_count": 22,
   "metadata": {},
   "outputs": [],
   "source": [
    "#cosmos-12\n",
    "T_HST_tot.add_row([T_final[9][\"GALID\"], T_final[9][\"RA_GAL\"], T_final[9][\"DEC_GAL\"], T_final[9][\"ZTRUE\"], \"cosmos-12\"])"
   ]
  },
  {
   "cell_type": "code",
   "execution_count": 23,
   "metadata": {},
   "outputs": [],
   "source": [
    "#cosmos-13\n",
    "T_HST_tot.add_row([T_final[7][\"GALID\"], T_final[7][\"RA_GAL\"], T_final[7][\"DEC_GAL\"], T_final[7][\"ZTRUE\"], \"cosmos-13\"])"
   ]
  },
  {
   "cell_type": "code",
   "execution_count": 24,
   "metadata": {},
   "outputs": [],
   "source": [
    "#cosmos-14\n",
    "T_HST_tot.add_row([T_final[8][\"GALID\"], T_final[8][\"RA_GAL\"], T_final[8][\"DEC_GAL\"], T_final[8][\"ZTRUE\"], \"cosmos-14\"])\n",
    "T_HST_tot.add_row([T_final[12][\"GALID\"], T_final[12][\"RA_GAL\"], T_final[12][\"DEC_GAL\"], T_final[12][\"ZTRUE\"], \"cosmos-14\"])"
   ]
  },
  {
   "cell_type": "code",
   "execution_count": 25,
   "metadata": {},
   "outputs": [],
   "source": [
    "#cosmos-15\n",
    "T_HST_tot.add_row([T_final[14][\"GALID\"], T_final[14][\"RA_GAL\"], T_final[14][\"DEC_GAL\"], T_final[14][\"ZTRUE\"], \"cosmos-15\"])\n",
    "T_HST_tot.add_row([T_final[21][\"GALID\"], T_final[21][\"RA_GAL\"], T_final[21][\"DEC_GAL\"], T_final[21][\"ZTRUE\"], \"cosmos-15\"])"
   ]
  },
  {
   "cell_type": "code",
   "execution_count": 26,
   "metadata": {},
   "outputs": [],
   "source": [
    "#cosmos-18\n",
    "T_HST_tot.add_row([T_final[22][\"GALID\"], T_final[22][\"RA_GAL\"], T_final[22][\"DEC_GAL\"], T_final[22][\"ZTRUE\"], \"cosmos-18\"])\n",
    "T_HST_tot.add_row([T_final[25][\"GALID\"], T_final[25][\"RA_GAL\"], T_final[25][\"DEC_GAL\"], T_final[25][\"ZTRUE\"], \"cosmos-18\"])"
   ]
  },
  {
   "cell_type": "code",
   "execution_count": 27,
   "metadata": {},
   "outputs": [],
   "source": [
    "#cosmos-19\n",
    "T_HST_tot.add_row([T_final[26][\"GALID\"], T_final[26][\"RA_GAL\"], T_final[26][\"DEC_GAL\"], T_final[26][\"ZTRUE\"], \"cosmos-19\"])"
   ]
  },
  {
   "cell_type": "code",
   "execution_count": 28,
   "metadata": {
    "scrolled": true
   },
   "outputs": [],
   "source": [
    "#cosmos-24\n",
    "T_HST_tot.add_row([T_final[11][\"GALID\"], T_final[11][\"RA_GAL\"], T_final[11][\"DEC_GAL\"], T_final[11][\"ZTRUE\"], \"cosmos-24\"])"
   ]
  },
  {
   "cell_type": "code",
   "execution_count": 29,
   "metadata": {},
   "outputs": [],
   "source": [
    "#cosmos-25\n",
    "T_HST_tot.add_row([T_final[13][\"GALID\"], T_final[13][\"RA_GAL\"], T_final[13][\"DEC_GAL\"], T_final[13][\"ZTRUE\"], \"cosmos-25\"])"
   ]
  },
  {
   "cell_type": "code",
   "execution_count": 30,
   "metadata": {},
   "outputs": [],
   "source": [
    "#cosmos-26\n",
    "T_HST_tot.add_row([T_final[3][\"GALID\"], T_final[3][\"RA_GAL\"], T_final[3][\"DEC_GAL\"], T_final[3][\"ZTRUE\"], \"cosmos-26\"])"
   ]
  },
  {
   "cell_type": "code",
   "execution_count": 31,
   "metadata": {},
   "outputs": [],
   "source": [
    "#cosmos-27\n",
    "T_HST_tot.add_row([T_final[5][\"GALID\"], T_final[5][\"RA_GAL\"], T_final[5][\"DEC_GAL\"], T_final[5][\"ZTRUE\"], \"cosmos-27\"])\n",
    "T_HST_tot.add_row([T_final[2][\"GALID\"], T_final[2][\"RA_GAL\"], T_final[2][\"DEC_GAL\"], T_final[2][\"ZTRUE\"], \"cosmos-27\"])"
   ]
  },
  {
   "cell_type": "code",
   "execution_count": 32,
   "metadata": {},
   "outputs": [],
   "source": [
    "c = SkyCoord(ra=T_HST_tot[\"RA_GAL\"]*u.degree, dec=T_HST_tot[\"DEC_GAL\"]*u.degree)\n",
    "catalog = SkyCoord(ra=T_HST[\"ra\"]*u.degree, dec=T_HST[\"dec\"]*u.degree)\n",
    "idx, d2d, d3d = c.match_to_catalog_3d(catalog)"
   ]
  },
  {
   "cell_type": "code",
   "execution_count": 33,
   "metadata": {},
   "outputs": [],
   "source": [
    "matches1 = catalog[idx]\n",
    "\n",
    "T_HST_match = T_HST[idx]\n",
    "ids = []\n",
    "matches_i = []\n",
    "for a in range (0, len(T_HST_tot[\"RA_GAL\"])):\n",
    "    x = T_HST_tot[\"RA_GAL\"][a]\n",
    "    y = T_HST_match[\"ra\"][a]\n",
    "    if x-y <= 0.000278:\n",
    "        w = T_HST_tot[\"DEC_GAL\"][a]\n",
    "        z = T_HST_match[\"dec\"][a]\n",
    "        if w-z <= 0.000278:\n",
    "            matches_i.append(idx[a])\n",
    "            ids.append(T_HST_tot[\"GALID\"][a])\n",
    "T_HST_m = T_HST[matches_i]\n",
    "h = Column(T_HST_m[\"id\"])\n",
    "\n",
    "T_HST_tot.add_column(h)"
   ]
  },
  {
   "cell_type": "code",
   "execution_count": 34,
   "metadata": {},
   "outputs": [],
   "source": [
    "ascii.write(T_HST_tot, \"cosmos_match.dat\", overwrite = True)"
   ]
  },
  {
   "cell_type": "code",
   "execution_count": 35,
   "metadata": {},
   "outputs": [],
   "source": [
    "#Table with vUDS and DEIMOS filenames, DEIMOS galaxy ID, RA, Dec, and redshift\n",
    "T_short = Table()\n",
    "T_short.add_column(T_final[\"GALID\"])\n",
    "T_short.add_column(T_final[\"ZTRUE\"])\n",
    "T_short.add_column(T_final[\"CATAID\"])\n",
    "T_short.add_column(row1f)\n",
    "T_short.add_column(row2f)\n",
    "T_short.add_column(T_final[\"vuds_ident\"])\n",
    "filenames = ['sc_5101466323_F51P008_join_A_78_1_atm_clean.fits', 'sc_5101236893_F51P006_join_A_75_1_atm_clean.fits', 0, 'sc_5101243705_F51P006_join_A_10_1_atm_clean.fits', 0, 'sc_5110445455_F51P008_join_A_41_2_atm_clean.fits', 'sc_5101245800_F51P006_join_A_19_1_atm_clean.fits', 0, 'sc_5101236942_F51P006_join_A_32_1_atm_clean.fits', 0, 0, 'sc_5101455396_F51P008_join_A_36_1_atm_clean.fits', 'sc_511233860_F51P007_join_A_125_1_atm_clean.fits', 0, 0, 0, 'sc_5100996068_F51P006_join_A_30_2_atm_clean.fits', 0, 0, 0, 0, 0, 0, 0, 0, 0, 'sc_5101002365_F51P006_join_A_76_1_atm_clean.fits', 0, 0]\n",
    "filenames2 = ['sc_5101466323_F51P008_join_A_78_1_noise.fits', 'sc_5101236893_F51P006_join_A_75_1_noise.fits', 0, 'sc_5101243705_F51P006_join_A_10_1_noise.fits', 0, 'sc_5110445455_F51P008_join_A_41_2_noise.fits', 'sc_5101245800_F51P006_join_A_19_1_noise.fits', 0, 'sc_5101236942_F51P006_join_A_32_1_noise.fits', 0, 0, 'sc_5101455396_F51P008_join_A_36_1_noise.fits', 'sc_511233860_F51P007_join_A_125_1_noise.fits', 0, 0, 0, 'sc_5100996068_F51P006_join_A_30_2_noise.fits', 0, 0, 0, 0, 0, 0, 0, 0, 0, 'sc_5101002365_F51P006_join_A_76_1_noise.fits', 0, 0]\n",
    "filenames3 = ['cosmos_example_spec1d_206109.fits', 'cosmos_example_spec1d_215166.fits', 'cosmos_example_spec1d_218365.fits', 'cosmos_example_spec1d_211373.fits', 'cosmos_example_spec1d_226295.fits', 'cosmos_example_spec1d_217263.fits', 'cosmos_example_spec1d_204489.fits', 'cosmos_example_spec1d_205925.fits', 'cosmos_example_spec1d_201957.fits', 'cosmos_example_spec1d_209459.fits', 'cosmos_example_spec1d_233753.fits', 'cosmos_example_spec1d_214249.fits', 'cosmos_example_spec1d_201535.fits', 'cosmos_example_spec1d_219723.fits', 'cosmos_example_spec1d_223627.fits', 'cosmos_example_spec1d_205108.fits', 'cosmos_example_spec1d_205342.fits', 'cosmos_example_spec1d_227457.fits', 'cosmos_example_spec1d_202422.fits', 'cosmos_example_spec1d_202800.fits', 'cosmos_example_spec1d_201351.fits', 'cosmos_example_spec1d_224092.fits', 'cosmos_example_spec1d_217941.fits', 'cosmos_example_spec1d_227132.fits', 'cosmos_example_spec1d_229356.fits', 'cosmos_example_spec1d_218066.fits', 'cosmos_example_spec1d_205346.fits', 'cosmos_example_spec1d_213771.fits', 'cosmos_example_spec1d_216137.fits']\n",
    "C1 = Column(filenames, name = 'vUDS_spec_filename')\n",
    "C2 = Column(filenames2, name = 'vUDS_spec_noise_filename')\n",
    "C3 = Column(filenames3, name = 'DEIMOS_spec_filename')\n",
    "T_short.add_column(C3)\n",
    "T_short.add_column(C1)\n",
    "T_short.add_column(C2)\n",
    "T_short.add_column(T_final[\"id_candels\"])\n",
    "\n",
    "T_short.add_column(T_final[\"OBJECT_ID\"])\n"
   ]
  },
  {
   "cell_type": "code",
   "execution_count": 36,
   "metadata": {},
   "outputs": [],
   "source": [
    "ascii.write(T_short, \"gal_lib_short1.dat\", overwrite = True)"
   ]
  },
  {
   "cell_type": "code",
   "execution_count": 37,
   "metadata": {},
   "outputs": [
    {
     "data": {
      "image/png": "[encoded data removed]",
      "text/plain": [
       "<Figure size 432x288 with 1 Axes>"
      ]
     },
     "metadata": {
      "needs_background": "light"
     },
     "output_type": "display_data"
    }
   ],
   "source": [
    "#Plotting redshifts to determine whether the different catalogues match up properly\n",
    "x = np.linspace(min(T[\"ZTRUE\"]), max(T[\"ZTRUE\"]), len(T[\"ZTRUE\"]))\n",
    "plt.errorbar(x = x, y = T[\"ZTRUE\"], yerr = T[\"ZERR\"], fmt = 'o', capsize = 4, label = 'DEIMOS')\n",
    "plt.errorbar(x = x, y = T_final[\"Z_06\"], fmt = 'o', capsize = 4, label = 'G10')\n",
    "plt.title(\"G10 Redshift and DEIMOS Redshift\")\n",
    "plt.ylabel(\"Redshifts\")\n",
    "plt.legend(loc='upper right')\n",
    "plt.show()"
   ]
  },
  {
   "cell_type": "code",
   "execution_count": 38,
   "metadata": {},
   "outputs": [
    {
     "data": {
      "text/plain": [
       "Text(0, 0.5, 'vUDS Redshift')"
      ]
     },
     "execution_count": 38,
     "metadata": {},
     "output_type": "execute_result"
    },
    {
     "data": {
      "image/png": "[encoded data removed]",
      "text/plain": [
       "<Figure size 432x288 with 1 Axes>"
      ]
     },
     "metadata": {
      "needs_background": "light"
     },
     "output_type": "display_data"
    }
   ],
   "source": [
    "#vUDS z at 0 indicates that the galaxy is not present in the vUDS catalogue\n",
    "plt.errorbar(y = T_final[\"z_spec\"], x = T[\"ZTRUE\"], xerr = T[\"ZERR\"], fmt = 'o', capsize = 4)\n",
    "plt.title(\"vUDS Redshift vs. DEIMOS Redshift\")\n",
    "plt.xlabel(\"DEIMOS Redshift\")\n",
    "plt.ylabel(\"vUDS Redshift\")"
   ]
  },
  {
   "cell_type": "code",
   "execution_count": 39,
   "metadata": {},
   "outputs": [
    {
     "data": {
      "text/plain": [
       "Text(0, 0.5, 'DEIMOS redshift - vUDS redshift')"
      ]
     },
     "execution_count": 39,
     "metadata": {},
     "output_type": "execute_result"
    },
    {
     "data": {
      "image/png": "[encoded data removed]",
      "text/plain": [
       "<Figure size 432x288 with 1 Axes>"
      ]
     },
     "metadata": {
      "needs_background": "light"
     },
     "output_type": "display_data"
    }
   ],
   "source": [
    "diff = []\n",
    "x_axis = []\n",
    "err = []\n",
    "for x in range(0, len(T_final[\"z_spec\"])):\n",
    "    if T_final[\"z_spec\"][x] != 0:\n",
    "        diff.append(T_final[\"ZTRUE\"][x] - T_final[\"z_spec\"][x])\n",
    "        x_axis.append(T_final[\"ZTRUE\"][x])\n",
    "        err.append(T_final[\"ZERR\"][x])\n",
    "\n",
    "plt.scatter(x_axis, diff)\n",
    "plt.title(\"Difference in DEIMOS and vUDS redshift vs. DEIMOS redshift\")\n",
    "plt.xlabel(\"DEIMOS redshift\")\n",
    "plt.ylabel(\"DEIMOS redshift - vUDS redshift\")"
   ]
  }
 ],
 "metadata": {
  "kernelspec": {
   "display_name": "Python 3",
   "language": "python",
   "name": "python3"
  },
  "language_info": {
   "codemirror_mode": {
    "name": "ipython",
    "version": 3
   },
   "file_extension": ".py",
   "mimetype": "text/x-python",
   "name": "python",
   "nbconvert_exporter": "python",
   "pygments_lexer": "ipython3",
   "version": "3.7.3"
  }
 },
 "nbformat": 4,
 "nbformat_minor": 2
}
